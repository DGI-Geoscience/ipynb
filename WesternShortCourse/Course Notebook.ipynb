{
 "metadata": {
  "name": "",
  "signature": "sha256:7dcaa903ea39de31b1333ca9d0672addb8494b27425715fe2cf7378f820cb3a5"
 },
 "nbformat": 3,
 "nbformat_minor": 0,
 "worksheets": [
  {
   "cells": [
    {
     "cell_type": "markdown",
     "metadata": {},
     "source": [
      "#Statistical Analysis of Borehole data using Python\n",
      "\n",
      "##About the data...\n",
      "\n",
      "Data is from a single borehole on an iron ore property located in Labrador NFLD. The data has been depth matched and errors have been removed. It was then matched up with client supplied core logged information (lithology and formations). All the data was then exported into a single CSV file. Null values are written as -999.\n",
      "\n",
      "It includes the following data:\n",
      "\n",
      "| Header | Parameter | Units| Description\n",
      "|------------|----------|------|------------------------------------|\n",
      "|Depth_m | Depth |  m | Depth downhole.|\n",
      "|RockType| Lithology | N/A |  Lithology classification from core log data.|\n",
      "|Formation| Formation | N/A| Formation classification from core log data. |\n",
      "|Natural Gamma_API| Natural Gamma| API| Natural Gamma from downhole log.|\n",
      "|SP_mV|Spontaneous Potential| mV| Spontaneous Potential from downhole log.|\n",
      "|SP Resistance_Ohm\t| Single Point Resistance| Ohm| Single Point Resistance from downhole log.|\n",
      "|Fluid Resistivity_Ohm| Fluid Resistivity| Ohm| Fluid Resistivity from downhole log.|\n",
      "|Temperature_DegC|Temperature| Degrees Celsius| Temperature from downhole log.|\n",
      "|Res8_Ohm-m|8 Inch Resistivity|Ohm-m| Resistivity from 8 inch receiver from downhole log.|\n",
      "|Res16_Ohm-m|16 Inch Resistivity|Ohm-m| Resistivity from 16 inch receiver from downhole log.|\n",
      "|Res32_Ohm-m|32 Inch Resistivity|Ohm-m| Resistivity from 32 inch receiver from downhole log.|\n",
      "|Res64_Ohm-m|64 Inch Resistivity|Ohm-m| Resistivity from 64 inch receiver from downhole log.|\n",
      "|Near Density_gcc|Near Density| g/cc| Density from the near detector from downhole log.|\n",
      "|Far Density_gcc|Far Density | g/cc| Density from the far detector from downhole log.|\n",
      "|MS_mCGS|Magnetic Susceptibiltiy| mCGS| Magnetic Susceptibility from downhole log.|\n",
      "\n",
      "##Lithology Dictionary\n",
      "|Code|LongName|\n",
      "|------|-----------------|\n",
      "|B_MS_SCH|Biotite Meta-Sediment Schist|\n",
      "|GF_B_MS_SCH|Graphite Biotite Meta-Sediment Schist|\n",
      "|HBG_GN|Biotite Garnet Gneiss|\n",
      "|HIF|Hematite Iron Formation|\n",
      "|HMIF|Hematite-Magnetite Iron Formation|\n",
      "|MHIF|Magnetite-Hematite Iron Formation|\n",
      "|MIF|Magnetite Iron Formation|\n",
      "|MS_B_SCH|Meta-Sediment Biotite Schist|\n",
      "|QCIF|Quartz Carbonate Iron Formation|\n",
      "|QSIF|Quartz Sulfur Iron Formation|\n",
      "|QZT|Quartz Vien|\n",
      "|QZT-MS|Quartz Vien - Meta-Sediment|\n",
      "|QZ_MS_B_CC_SCH|Quartz Meta-Sediment Biotite Carbonate Schist|\n",
      "|SIF|Sulfur Iron Formation|\n",
      "\n",
      "\n",
      "\n",
      "\n",
      "\n",
      "##Using Python and IPython Notebook\n",
      "Python is a programming language that is used extensively in data analysis. Some other popular languages include MATLAB and R.  For the purposed of this exercise we will use Python with the SciPy package which includes *pandas* for data management and *matplotlib* for visualization. IPython is an interactive interpreter that allows you to analyze data while having your results and notes inline with the code. \n",
      "\n",
      "The code is here for reference and thus we will not be discussing what each piece does. However, if you have further questions about the code, please contact Patrick Hooker at phooker@dgigeoscience.com\n",
      "\n",
      "\n",
      "##Import libraries \n",
      "\n",
      "To start we must initialise the worksheet and import the libraries we plan to use. "
     ]
    },
    {
     "cell_type": "markdown",
     "metadata": {},
     "source": [
      "%pylab inline\n",
      "pylab.rcParams['figure.figsize'] = (12.0, 7.0)\n",
      "import numpy as np\n",
      "from scipy import stats\n",
      "import matplotlib.pyplot as pt\n",
      "import pandas as pd\n"
     ]
    },
    {
     "cell_type": "markdown",
     "metadata": {},
     "source": [
      "##Import Data\n",
      "\n",
      "Using pandas, we import the data and set the first column (Depth) in the sheet as the main index. \n",
      "Then we find all the null values and set them as NaN (not a number)."
     ]
    },
    {
     "cell_type": "code",
     "collapsed": false,
     "input": [
      "data=pd.read_csv('Course_Data.csv',index_col=0)\n",
      "data=data.replace(-999,np.nan)\n",
      "data"
     ],
     "language": "python",
     "metadata": {},
     "outputs": [
      {
       "ename": "NameError",
       "evalue": "name 'pd' is not defined",
       "output_type": "pyerr",
       "traceback": [
        "\u001b[1;31m---------------------------------------------------------------------------\u001b[0m\n\u001b[1;31mNameError\u001b[0m                                 Traceback (most recent call last)",
        "\u001b[1;32m<ipython-input-2-992980598fdd>\u001b[0m in \u001b[0;36m<module>\u001b[1;34m()\u001b[0m\n\u001b[1;32m----> 1\u001b[1;33m \u001b[0mdata\u001b[0m\u001b[1;33m=\u001b[0m\u001b[0mpd\u001b[0m\u001b[1;33m.\u001b[0m\u001b[0mread_csv\u001b[0m\u001b[1;33m(\u001b[0m\u001b[1;34m'Course_Data.csv'\u001b[0m\u001b[1;33m,\u001b[0m\u001b[0mindex_col\u001b[0m\u001b[1;33m=\u001b[0m\u001b[1;36m0\u001b[0m\u001b[1;33m)\u001b[0m\u001b[1;33m\u001b[0m\u001b[0m\n\u001b[0m\u001b[0;32m      2\u001b[0m \u001b[0mdata\u001b[0m\u001b[1;33m=\u001b[0m\u001b[0mdata\u001b[0m\u001b[1;33m.\u001b[0m\u001b[0mreplace\u001b[0m\u001b[1;33m(\u001b[0m\u001b[1;33m-\u001b[0m\u001b[1;36m999\u001b[0m\u001b[1;33m,\u001b[0m\u001b[0mnp\u001b[0m\u001b[1;33m.\u001b[0m\u001b[0mnan\u001b[0m\u001b[1;33m)\u001b[0m\u001b[1;33m\u001b[0m\u001b[0m\n\u001b[0;32m      3\u001b[0m \u001b[0mdata\u001b[0m\u001b[1;33m\u001b[0m\u001b[0m\n",
        "\u001b[1;31mNameError\u001b[0m: name 'pd' is not defined"
       ]
      }
     ],
     "prompt_number": 2
    },
    {
     "cell_type": "markdown",
     "metadata": {},
     "source": [
      "##Basic Descriptive Statistics\n",
      "\n",
      "####Averages\n",
      "- Mean\n",
      " * Most common measure of average; is calculated by summing all data and dividing by the total number of points.\n",
      "- Median\n",
      " * Middle value in an ordered set.\n",
      "- Mode\n",
      " * Most frequently occurring value.\n",
      "\n",
      "Standard Deviation\n",
      "\n",
      "- A measure of variation or dispersion from the mean average value.\n",
      "\n",
      "Variance\n",
      "\n",
      "- The square of the standard deviation; anther measure of dispersion within a dataset.\n",
      "\n",
      "The data can now be quickly summarized using the describe() function. "
     ]
    },
    {
     "cell_type": "code",
     "collapsed": false,
     "input": [
      "data.describe()"
     ],
     "language": "python",
     "metadata": {},
     "outputs": []
    },
    {
     "cell_type": "markdown",
     "metadata": {},
     "source": [
      "***\n",
      "#Question 1\n",
      "\n",
      "Examining the table above, there is at least one parameter that may contain an error. What is it and why?\n",
      "\n",
      "\n",
      "\n",
      "\n",
      "\n",
      "\n",
      "\n",
      "\n",
      "\n",
      "\n",
      "***"
     ]
    },
    {
     "cell_type": "markdown",
     "metadata": {},
     "source": [
      "##Visualization\n",
      "\n",
      "###Histograms\n",
      "\n",
      "Data is distributed into bins that are defined by either a total number of bins or specific values. The data is plotted using bar graphs with the x-axis representing the value and the y-axis representing the frequency.  These graphs are useful for identifying anomalies in the data such as skewed distributions or many values occurring within a single bin.\n",
      "\n",
      "It should be noted that some parameters, especially magnetic and electrical, should be plotted using a log scale. "
     ]
    },
    {
     "cell_type": "code",
     "collapsed": false,
     "input": [
      "pt.subplot(1,2,1)\n",
      "ax=data.SP_mV.hist(bins=50)\n",
      "ax.set_xscale('log')\n",
      "ax.set_ylabel('Frequency')\n",
      "ax.set_xlabel('SP')\n",
      "\n",
      "pt.subplot(1,2,2)\n",
      "ax=data.SPResistance_Ohm.hist(bins=50)\n",
      "ax.set_ylabel('Frequency')\n",
      "ax.set_xlabel('SP Resistance')\n",
      "\n"
     ],
     "language": "python",
     "metadata": {},
     "outputs": []
    },
    {
     "cell_type": "code",
     "collapsed": false,
     "input": [
      "pt.subplot(1,2,1)\n",
      "ax=data.FluidResistivity_Ohm.hist(bins=50)\n",
      "\n",
      "ax.set_ylabel('Frequency')\n",
      "ax.set_xlabel('Fluid Resistivity')\n",
      "\n",
      "pt.subplot(1,2,2)\n",
      "ax=data.Temperature_DegC.hist(bins=50)\n",
      "ax.set_ylabel('Frequency')\n",
      "ax.set_xlabel('Temperature')"
     ],
     "language": "python",
     "metadata": {},
     "outputs": []
    },
    {
     "cell_type": "code",
     "collapsed": false,
     "input": [
      "pt.subplot(1,2,1)\n",
      "ax=data['Res8_Ohm-m'].hist(bins=np.logspace(np.min(np.log10(data['Res8_Ohm-m'])),np.max(np.log10(data['Res8_Ohm-m']))))\n",
      "ax.set_xscale('log')\n",
      "ax.set_ylabel('Frequency')\n",
      "ax.set_xlabel('8 Inch Resistivity')\n",
      "\n",
      "pt.subplot(1,2,2)\n",
      "ax=data['Res16_Ohm-m'].hist(bins=np.logspace(np.min(np.log10(data['Res16_Ohm-m'])),np.max(np.log10(data['Res16_Ohm-m']))))\n",
      "ax.set_xscale('log')\n",
      "ax.set_ylabel('Frequency')\n",
      "ax.set_xlabel('16 Inch Resistivity')"
     ],
     "language": "python",
     "metadata": {},
     "outputs": []
    },
    {
     "cell_type": "code",
     "collapsed": false,
     "input": [
      "pt.subplot(1,2,1)\n",
      "ax=data['Res32_Ohm-m'].hist(bins=np.logspace(np.min(np.log10(data['Res32_Ohm-m'])),np.max(np.log10(data['Res32_Ohm-m']))))\n",
      "ax.set_xscale('log')\n",
      "ax.set_ylabel('Frequency')\n",
      "ax.set_xlabel('64 Inch Resistivity')\n",
      "\n",
      "pt.subplot(1,2,2)\n",
      "ax=data['Res64_Ohm-m'].hist(bins=np.logspace(np.min(np.log10(data['Res64_Ohm-m'])),np.max(np.log10(data['Res64_Ohm-m']))))\n",
      "ax.set_xscale('log')\n",
      "ax.set_ylabel('Frequency')\n",
      "ax.set_xlabel('64 Inch Resistivity')"
     ],
     "language": "python",
     "metadata": {},
     "outputs": []
    },
    {
     "cell_type": "code",
     "collapsed": false,
     "input": [
      "pt.subplot(1,2,1)\n",
      "ax=data.NaturalGamma_API.hist(bins=50)\n",
      "\n",
      "ax.set_ylabel('Frequency')\n",
      "ax.set_xlabel('Natural Gamma')\n",
      "\n",
      "pt.subplot(1,2,2)\n",
      "ax=data.MS_mCGS.hist(bins=np.logspace(np.min(np.log10(data['MS_mCGS'])),np.max(np.log10(data['MS_mCGS']))))\n",
      "ax.set_xscale('log')\n",
      "ax.set_ylabel('Frequency')\n",
      "ax.set_xlabel('Magnetic Susceptibility')"
     ],
     "language": "python",
     "metadata": {},
     "outputs": []
    },
    {
     "cell_type": "code",
     "collapsed": false,
     "input": [
      "pt.subplot(1,2,1)\n",
      "ax=data.NearDensity_gcc.hist(bins=50)\n",
      "\n",
      "ax.set_ylabel('Frequency')\n",
      "ax.set_xlabel('Near Density')\n",
      "\n",
      "pt.subplot(1,2,2)\n",
      "ax=data.FarDensity_gcc.hist(bins=50)\n",
      "ax.set_ylabel('Frequency')\n",
      "ax.set_xlabel('Far Density')"
     ],
     "language": "python",
     "metadata": {},
     "outputs": []
    },
    {
     "cell_type": "markdown",
     "metadata": {},
     "source": [
      "***\n",
      "# Question 2\n",
      "The distributions shown above generally do not show a normal distribution. Explain why this is the case.\n",
      "\n",
      "\n",
      "\n",
      "\n",
      "\n",
      "\n",
      "***"
     ]
    },
    {
     "cell_type": "markdown",
     "metadata": {},
     "source": [
      "###Scatter (Cross) Plots\n",
      "\n",
      "The scatter plots will be coloured coded by RockType. For simplicity, we'll show only the following graphs:\n",
      "\n",
      "- 16 Inch Resistivity vs. Magnetic Susceptibility\n",
      "- 16 Inch Resistivity vs. Near Density\n",
      "- Magnetic Susceptibility vs. Near Density\n",
      "- Natural Gamma vs. Near Density.\n",
      "\n",
      "First we define the unique RockType and assign each a standard color. "
     ]
    },
    {
     "cell_type": "code",
     "collapsed": false,
     "input": [
      "uniqueGroups=data.RockType.unique();\n",
      "uniqueGroups.sort()\n",
      "nColor=len(uniqueGroups)\n",
      "cmap = matplotlib.cm.get_cmap('jet',nColor);\n",
      "colors=cmap(np.arange(nColor))\n"
     ],
     "language": "python",
     "metadata": {},
     "outputs": []
    },
    {
     "cell_type": "markdown",
     "metadata": {},
     "source": [
      "The code below cycles through each rock type from the RockType column finds the rows where that rock type exists and generates a new data table for it. \n",
      "\n",
      "The specified columns are then plotted against each other. "
     ]
    },
    {
     "cell_type": "code",
     "collapsed": false,
     "input": [
      "for i,co in zip(uniqueGroups,colors) :\n",
      "    dataGroup=data[data.RockType.str.contains(i)]\n",
      "    ax=pt.plot(dataGroup['Res16_Ohm-m'],dataGroup['MS_mCGS'],color=co,label=i,\n",
      "               linestyle='None', marker='o');\n",
      "pt.legend();\n",
      "ax=pt.gca();\n",
      "ax.set_xscale('log');\n",
      "ax.set_yscale('log');\n",
      "ax.set_ylabel('Magnetic Susceptibility');\n",
      "ax.set_xlabel('Resistivity');\n"
     ],
     "language": "python",
     "metadata": {},
     "outputs": []
    },
    {
     "cell_type": "code",
     "collapsed": false,
     "input": [
      "for i,co in zip(uniqueGroups,colors) :\n",
      "    dataGroup=data[data.RockType.str.contains(i)]\n",
      "    ax=pt.plot(dataGroup['Res16_Ohm-m'],dataGroup['NearDensity_gcc'],color=co,label=i,\n",
      "               linestyle='None', marker='o');\n",
      "pt.legend();\n",
      "ax=pt.gca();\n",
      "ax.set_xscale('log');\n",
      "ax.set_ylabel('Density');\n",
      "ax.set_xlabel('Resistivity');"
     ],
     "language": "python",
     "metadata": {},
     "outputs": []
    },
    {
     "cell_type": "code",
     "collapsed": false,
     "input": [
      "for i,co in zip(uniqueGroups,colors) :\n",
      "    dataGroup=data[data.RockType.str.contains(i)]\n",
      "    ax=pt.plot(dataGroup['MS_mCGS'],dataGroup['NearDensity_gcc'],color=co,label=i,\n",
      "               linestyle='None', marker='o');\n",
      "pt.legend();\n",
      "ax=pt.gca();\n",
      "ax.set_xscale('log');\n",
      "ax.set_ylabel('Density');\n",
      "ax.set_xlabel('Magnetic Susceptibility');"
     ],
     "language": "python",
     "metadata": {},
     "outputs": []
    },
    {
     "cell_type": "code",
     "collapsed": false,
     "input": [
      "for i,co in zip(uniqueGroups,colors) :\n",
      "    dataGroup=data[data.RockType.str.contains(i)]\n",
      "    ax=pt.plot(dataGroup['NaturalGamma_API'],dataGroup['NearDensity_gcc'],color=co,label=i,\n",
      "               linestyle='None', marker='o');\n",
      "pt.legend();\n",
      "ax=pt.gca();\n",
      "ax.set_ylabel('Density');\n",
      "ax.set_xlabel('Natural Gamma');"
     ],
     "language": "python",
     "metadata": {},
     "outputs": []
    },
    {
     "cell_type": "markdown",
     "metadata": {},
     "source": [
      "###Box and Whisker Plots\n",
      "\n",
      "Box and Whisker plots (hereafter referred to as boxplots) are used to compare grouped data for a single variable.  They are useful because they provide a lot of information in a compact, visual manner. Boxplots can be viewed horizontally or vertically, below is an example of a horizontal boxplot, showing how it compares to a normal distribution.  Q1 and Q3 refer to the first and third quartiles represented by the left and right edges of the box respectively (in a vertical boxplot it is represented by the bottom and top). The median is represented by the solid line in the center of the box. The whiskers are generally represented as being 1.5 times the inter-quartile range (IQR) and then added to or subtracted from Q1 and Q3. Points that fall outside of these ranges are classifed as outliers and are represented by points ('+' symbol in the case of the plots shown below).\n",
      "\n",
      "![](boxplot_example.png?raw=true,\"Boxplot Example\")"
     ]
    },
    {
     "cell_type": "code",
     "collapsed": false,
     "input": [
      "ax=data.boxplot(column='NearDensity_gcc',by='RockType',vert=True);\n",
      "pt.xticks(rotation=70);"
     ],
     "language": "python",
     "metadata": {},
     "outputs": []
    },
    {
     "cell_type": "code",
     "collapsed": false,
     "input": [
      "ax=data.boxplot(column='MS_mCGS',by='RockType',vert=True);\n",
      "ax.set_yscale('log')\n",
      "pt.xticks(rotation=70);\n"
     ],
     "language": "python",
     "metadata": {},
     "outputs": []
    },
    {
     "cell_type": "code",
     "collapsed": false,
     "input": [
      "ax=data.boxplot(column='Res16_Ohm-m',by='RockType',vert=True);\n",
      "ax.set_yscale('log')\n",
      "pt.xticks(rotation=70);"
     ],
     "language": "python",
     "metadata": {},
     "outputs": []
    },
    {
     "cell_type": "code",
     "collapsed": false,
     "input": [
      "ax=data.boxplot(column='NaturalGamma_API',by='RockType',vert=True);\n",
      "pt.xticks(rotation=70);"
     ],
     "language": "python",
     "metadata": {},
     "outputs": []
    },
    {
     "cell_type": "markdown",
     "metadata": {},
     "source": [
      "*** \n",
      "#Question 3\n",
      "From the scatter and boxplots, there are three to four different groupings that become apparent.  Describe how those groups relate to each physical parameter and rock type.\n",
      "\n",
      "\n",
      "\n",
      "\n",
      "***"
     ]
    },
    {
     "cell_type": "markdown",
     "metadata": {},
     "source": [
      "***\n",
      "#Question 4\n",
      "Based on the conclusions above, what further geophysical surveys (airborne, ground, borehole) would you perform to further help understand the deposit? \n",
      "\n",
      "\n",
      "\n",
      "***"
     ]
    }
   ],
   "metadata": {}
  }
 ]
}